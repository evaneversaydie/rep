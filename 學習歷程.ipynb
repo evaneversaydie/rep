{
 "cells": [
  {
   "cell_type": "markdown",
   "metadata": {},
   "source": [
    "Binary Search Tree\n",
    "===\n",
    "巨資三_林依樺"
   ]
  },
  {
   "cell_type": "markdown",
   "metadata": {},
   "source": [
    "# 目錄\n",
    "* [Binary Search Tree 理解](#Binary Search Tree 理解)\n",
    "* [程式撰寫過程](# 程式撰寫過程)\n",
    "* [最終程式碼](# 最終程式碼)\n",
    "* [學習總結](# 學習總結)\n",
    "    * [對比歷程](# 對比歷程)\n",
    "* [流程圖](#流程圖)\n",
    "* [參考資料](# 參考資料)\n"
   ]
  },
  {
   "cell_type": "markdown",
   "metadata": {},
   "source": [
    "# Binary Search Tree 理解\n",
    "為了避免作業過長，關於這次二元搜尋樹的理解與事前預習，依照作業要求摘要先放在[github]()上面([linked list]()，[Binary Search Tree]())。並摘入一些自己的筆記當成這次設計二元搜尋樹的架構。"
   ]
  },
  {
   "cell_type": "markdown",
   "metadata": {},
   "source": [
    "# 程式撰寫過程\n",
    "##### 🧨\n",
    "一開始疑惑的點是在`Solution()`中輸入的<>資料型態`TreeNode`(不是之前學過的list、dict等等的型態)。\n",
    "<br> 後來了解到，`TreeNode`是我們建立的一個物件，每個樹都由節點構成。我們可以藉由呼叫TreeNode()來建立不同的Node，並將之串起。\n",
    "### 0.TreeNode:"
   ]
  },
  {
   "cell_type": "code",
   "execution_count": 5,
   "metadata": {
    "collapsed": true
   },
   "outputs": [],
   "source": [
    "#Definition for a binary tree node.\n",
    "#       :type val: int\n",
    "#        :type left: TreeNode or None\n",
    "#        :type right: TreeNode or None\n",
    "       \n",
    "class TreeNode(object):\n",
    "    def __init__(self,x):\n",
    "        self.val = x\n",
    "        self.left = None\n",
    "        self.right = None\n",
    "        \n",
    "        \n",
    "#Node分為:不存在、樹根、節點"
   ]
  },
  {
   "cell_type": "markdown",
   "metadata": {},
   "source": [
    "\n",
    "##### 🧨\n",
    "### 1. insert():\n",
    "<br> (1) 功用:新增節點至對的位置。(符合二元搜尋樹的定義)\n",
    "<br> (2) case:\n",
    "    <br> 1. root 不存在(例如原本只有一個root的樹被刪掉了)=>新增一個TreeNode在root的位置=> return TreeNode(val)\n",
    "    <br> 2. root 存在且root.left/root.right 為None => 新增+return TreeNode(val)\n",
    "    <br> 3. root 存在但root.left/root.right 為None => `遞迴` => 直到符合case2"
   ]
  },
  {
   "cell_type": "code",
   "execution_count": 6,
   "metadata": {
    "collapsed": true
   },
   "outputs": [],
   "source": [
    "class Solution(object):\n",
    "    def insert(self, root, val):\n",
    "        \"\"\"\n",
    "        :type root: TreeNode\n",
    "        :type val: int\n",
    "        :rtype: TreeNode(inserted node)\n",
    "        \"\"\"\n",
    "        if root.val != None:\n",
    "            if val<=root.val :\n",
    "                if root.left==None: \n",
    "                    root.left=TreeNode(val)\n",
    "                    return root.left\n",
    "                else:\n",
    "                    root=root.left\n",
    "                    insert(self,root,val)\n",
    "            elif val>root.val:\n",
    "                if root.right==None:\n",
    "                    root.right =TreeNode(val)\n",
    "                    return root.right\n",
    "                else:\n",
    "                    root=root.right\n",
    "                    insert(self,root,val)\n",
    "        else:\n",
    "            root.val=TreeNode(val)\n",
    "    "
   ]
  },
  {
   "cell_type": "code",
   "execution_count": 7,
   "metadata": {
    "collapsed": false
   },
   "outputs": [
    {
     "data": {
      "text/plain": [
       "<__main__.TreeNode at 0x169f8a9b438>"
      ]
     },
     "execution_count": 7,
     "metadata": {},
     "output_type": "execute_result"
    }
   ],
   "source": [
    "a=Solution()\n",
    "a.insert(TreeNode(7),3)\n",
    "a.insert(TreeNode(7),10)\n",
    "a.insert(TreeNode(7),2)\n",
    "a.insert(TreeNode(7),15)\n",
    "a.insert(TreeNode(7),13)"
   ]
  },
  {
   "cell_type": "markdown",
   "metadata": {},
   "source": [
    "##### 🧨\n",
    "###### WRANG\n",
    "<br> (3)在Debug mode中發現的錯誤:\n",
    "    <br> 1. 測試值呼叫錯誤:每次叫TreeNode(7)都是創造新的物件，所有新增的直沒有在同一個樹上。\n",
    "    <br> 2. 遞迴語法設計錯誤:`root=root.right`史的需要回傳的變數root被覆蓋。 \n",
    "    <br> 3. self呼叫語法錯誤"
   ]
  },
  {
   "cell_type": "code",
   "execution_count": 8,
   "metadata": {
    "collapsed": true
   },
   "outputs": [],
   "source": [
    "class Solution(object):\n",
    "    def insert(self, root, val):\n",
    "        \"\"\"\n",
    "        :type root: TreeNode\n",
    "        :type val: int\n",
    "        :rtype: TreeNode(inserted node)\n",
    "        \"\"\"\n",
    "        if root.val != None: #改成not root.val\n",
    "            if val<=root.val :\n",
    "                if root.left==None: \n",
    "                    root.left=TreeNode(val)\n",
    "                    return root.left\n",
    "                else:\n",
    "                    self.insert(root.left,val) #2\\3\n",
    "            elif val>root.val:\n",
    "                if root.right==None:\n",
    "                    root.right =TreeNode(val)\n",
    "                    return root.right\n",
    "                else:\n",
    "                    self.insert(root.right,val) #2\\3\n",
    "        else:\n",
    "            root.val=TreeNode(val)\n",
    "    "
   ]
  },
  {
   "cell_type": "code",
   "execution_count": 10,
   "metadata": {
    "collapsed": false
   },
   "outputs": [],
   "source": [
    "# 1\n",
    "a=Solution()\n",
    "c = TreeNode(7)\n",
    "a.insert(c,3)\n",
    "a.insert(c,10)\n",
    "a.insert(c,2)\n",
    "a.insert(c,15)\n",
    "a.insert(c,13)"
   ]
  },
  {
   "cell_type": "markdown",
   "metadata": {},
   "source": [
    "##### 🧨\n",
    "### 2.search"
   ]
  },
  {
   "cell_type": "code",
   "execution_count": null,
   "metadata": {
    "collapsed": true
   },
   "outputs": [],
   "source": [
    "class Solution(object):\n",
    "    def insert(self, root, val):\n",
    "        \"\"\"\n",
    "        :type root: TreeNode\n",
    "        :type val: int\n",
    "        :rtype: TreeNode(inserted node)\n",
    "        \"\"\"\n",
    "        if root.val != None:\n",
    "            if val<=root.val :\n",
    "                if root.left==None: \n",
    "                    root.left=TreeNode(val)\n",
    "                    return root.left\n",
    "                else:\n",
    "                    self.insert(root.left,val) #2\\3\n",
    "            elif val>root.val:\n",
    "                if root.right==None:\n",
    "                    root.right =TreeNode(val)\n",
    "                    return root.right\n",
    "                else:\n",
    "                    self.insert(root.right,val) #2\\3\n",
    "        else:\n",
    "            root.val=TreeNode(val)\n",
    "    "
   ]
  },
  {
   "cell_type": "markdown",
   "metadata": {},
   "source": [
    "# 最終程式碼\n",
    "# 學習總結\n",
    "##### 對比歷程\n",
    "# 流程圖"
   ]
  },
  {
   "cell_type": "markdown",
   "metadata": {},
   "source": [
    "# 參考資料:\n",
    "\n",
    "* [作業基本格式](http://codepad.org/BSZDnLJ4)\n",
    "* [作業規範](https://docs.google.com/presentation/d/e/2PACX-1vQgUh73yvSdxAvMH50DHWJ5lsCX8-daMxtoltU9rYW7xCmqYz2A1wOv0Vcx_F9KO5ZUvZBv3IF1TjGi/pub?start=false&loop=false&delayms=3000&slide=id.g73e451e679_0_23)\n",
    "\n",
    "###### linked list:\n",
    "* ['自己的github筆記'](https://github.com/evaneversaydie/My_Study_Note/tree/master/Week1_Linked%20list)\n",
    "\n",
    "###### tree:\n",
    "* ['自己的github筆記']()\n",
    "* [演算法圖鑑](https://www.books.com.tw/products/0010771263)\n",
    "\n",
    "###### python 物件:\n",
    "* ['物件導向程式設計'](https://kaochenlong.com/2011/10/13/python-oop/)\n",
    "\n",
    "###### 印出tree:\n",
    "* ['Python nltk -- Tree'](http://cpmarkchang.logdown.com/posts/184948-python-nltk-tree)\n",
    "\n",
    "* ['python 按圖形列印二叉樹'](https://www.itread01.com/content/1547977526.html)\n",
    "\n",
    "###### markdown:\n",
    "* [如何使用 Markdown 來撰寫 Docs](https://docs.microsoft.com/zh-tw/contribute/how-to-write-use-markdown)"
   ]
  },
  {
   "cell_type": "code",
   "execution_count": null,
   "metadata": {
    "collapsed": true
   },
   "outputs": [],
   "source": []
  }
 ],
 "metadata": {
  "kernelspec": {
   "display_name": "Python 3",
   "language": "python",
   "name": "python3"
  },
  "language_info": {
   "codemirror_mode": {
    "name": "ipython",
    "version": 3
   },
   "file_extension": ".py",
   "mimetype": "text/x-python",
   "name": "python",
   "nbconvert_exporter": "python",
   "pygments_lexer": "ipython3",
   "version": "3.5.1"
  },
  "pycharm": {
   "stem_cell": {
    "cell_type": "raw",
    "metadata": {
     "collapsed": false
    },
    "source": []
   }
  }
 },
 "nbformat": 4,
 "nbformat_minor": 2
}
